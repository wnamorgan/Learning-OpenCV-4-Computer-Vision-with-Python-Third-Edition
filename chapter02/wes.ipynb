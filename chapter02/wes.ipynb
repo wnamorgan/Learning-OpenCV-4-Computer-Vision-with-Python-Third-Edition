{
 "cells": [
  {
   "cell_type": "code",
   "execution_count": 1,
   "metadata": {},
   "outputs": [],
   "source": [
    "import numpy as np\n",
    "import cv2\n",
    "import os"
   ]
  },
  {
   "cell_type": "code",
   "execution_count": 2,
   "metadata": {},
   "outputs": [
    {
     "name": "stdout",
     "output_type": "stream",
     "text": [
      "[[0 0 0]\n",
      " [0 0 0]\n",
      " [0 0 0]]\n",
      "(5, 3)\n"
     ]
    }
   ],
   "source": [
    "img = np.zeros((3,3), dtype=np.uint8)\n",
    "\n",
    "print(img)\n",
    "img = cv2.cvtColor(img,cv2.COLOR_GRAY2BGR)\n",
    "\n",
    "img =- np.zeros((5,3),dtype=np.uint8)\n",
    "print(img.shape)"
   ]
  },
  {
   "cell_type": "code",
   "execution_count": 4,
   "metadata": {},
   "outputs": [],
   "source": [
    "# Demonstrate use of imshow and also scalining images\n",
    "\n",
    "\n",
    "img = cv2.imread('MyPic.png',cv2.IMREAD_REDUCED_GRAYSCALE_8)\n",
    "cv2.imwrite('MyPic.jpg',img)\n",
    "# Using cv2.imshow() method \n",
    "# Displaying the image \n",
    "cv2.imshow('test2', img) \n",
    "  \n",
    "# waits for user to press any key \n",
    "# (this is necessary to avoid Python kernel form crashing) \n",
    "cv2.waitKey(0) \n",
    "  \n",
    "# closing all open windows \n",
    "cv2.destroyAllWindows() "
   ]
  },
  {
   "cell_type": "code",
   "execution_count": 5,
   "metadata": {},
   "outputs": [],
   "source": [
    "img = cv2.imread('MyPic.png',cv2.IMREAD_GRAYSCALE)\n",
    "for row in np.arange(20,40):\n",
    "    for col in np.arange(50,100):\n",
    "        img[row,col] = 255\n",
    "cv2.imshow('test',img)\n",
    "cv2.waitKey(0)\n",
    "cv2.destroyAllWindows()"
   ]
  },
  {
   "cell_type": "code",
   "execution_count": 5,
   "metadata": {},
   "outputs": [],
   "source": [
    "img = cv2.imread('MyPic.png')\n",
    "my_roi = img[0:100,0:100]\n",
    "cv2.imshow('test',my_roi)\n",
    "cv2.waitKey(0)\n",
    "cv2.destroyAllWindows()"
   ]
  },
  {
   "cell_type": "code",
   "execution_count": 7,
   "metadata": {},
   "outputs": [
    {
     "name": "stdout",
     "output_type": "stream",
     "text": [
      "(290, 290, 3)\n",
      "252300\n",
      "uint8\n"
     ]
    }
   ],
   "source": [
    "img = cv2.imread('MyPic.png')\n",
    "print(img.shape)\n",
    "print(img.size)\n",
    "print(img.dtype)"
   ]
  },
  {
   "cell_type": "code",
   "execution_count": 15,
   "metadata": {},
   "outputs": [
    {
     "name": "stderr",
     "output_type": "stream",
     "text": [
      "OpenCV: FFMPEG: tag 0x5634504d/'MP4V' is not supported with codec id 12 and format 'mp4 / MP4 (MPEG-4 Part 14)'\n",
      "OpenCV: FFMPEG: fallback to use tag 0x7634706d/'mp4v'\n"
     ]
    }
   ],
   "source": [
    "# p. 35 - reading and writing video files\n",
    "videoCapture = cv2.VideoCapture('MyInputVid.avi')\n",
    "fps = videoCapture.get(cv2.CAP_PROP_FPS)\n",
    "size = (int(videoCapture.get(cv2.CAP_PROP_FRAME_WIDTH)),\n",
    "        int(videoCapture.get(cv2.CAP_PROP_FRAME_HEIGHT)))\n",
    "if False:\n",
    "    videoWriter = cv2.VideoWriter('MyOutputVid.avi',cv2.VideoWriter_fourcc('I','4','2','0'),fps,size)\n",
    "else:\n",
    "    videoWriter = cv2.VideoWriter('MyOutputVid.mp4',cv2.VideoWriter_fourcc('M','P','4','V'),fps,size)\n",
    "success,frame = videoCapture.read()\n",
    "while success: \n",
    "    videoWriter.write(frame)\n",
    "    success, frame = videoCapture.read()"
   ]
  },
  {
   "cell_type": "code",
   "execution_count": 6,
   "metadata": {},
   "outputs": [
    {
     "name": "stderr",
     "output_type": "stream",
     "text": [
      "OpenCV: FFMPEG: tag 0x5634504d/'MP4V' is not supported with codec id 12 and format 'mp4 / MP4 (MPEG-4 Part 14)'\n",
      "OpenCV: FFMPEG: fallback to use tag 0x7634706d/'mp4v'\n"
     ]
    }
   ],
   "source": [
    "# With the onscreen video screen active, hit \"q\" to quit the script\n",
    "# unfortunately, I can't read the mp4 yet, even with gstreamer, as I don't have the mpr codex capability yet\n",
    "# I can use uncompressed video (lik 00. 35-35), but the file size will be 10x larger than a compressed\n",
    "# codex like MP4\n",
    "cap = cv2.VideoCapture(0)\n",
    "cap.set(3,640)\n",
    "cap.set(4,480)\n",
    "\n",
    "fourcc = cv2.VideoWriter_fourcc(*'MP4V')\n",
    "out = cv2.VideoWriter('output.mp4', fourcc, 20.0, (640,480))\n",
    "\n",
    "while(True):\n",
    "    ret, frame = cap.read()\n",
    "    out.write(frame)\n",
    "    cv2.imshow('frame', frame)\n",
    "    c = cv2.waitKey(1)\n",
    "    if c & 0xFF == ord('q'):\n",
    "        break\n",
    "\n",
    "cap.release()\n",
    "out.release()\n",
    "cv2.destroyAllWindows()"
   ]
  },
  {
   "cell_type": "code",
   "execution_count": 43,
   "metadata": {},
   "outputs": [
    {
     "name": "stdout",
     "output_type": "stream",
     "text": [
      "Approx. FPS: 13.29\n"
     ]
    }
   ],
   "source": [
    "# Using FPS to compute frame per second\n",
    "# https://pyimagesearch.com/2015/12/21/increasing-webcam-fps-with-python-and-opencv/\n",
    "from imutils.video import FPS\n",
    "stream = cv2.VideoCapture(0)\n",
    "fps = FPS().start()\n",
    "while fps._numFrames < 100:\n",
    "    (grabbed, frame) = stream.read()\n",
    "    fps.update()\n",
    "fps.stop()\n",
    "print(\"Elapsed Time: {0:.2f}\".format( fps.elapsed() ) )\n",
    "print(\"Approx. FPS: {0:.2f}\".format( fps.fps() ) )\n",
    "stream.release()"
   ]
  },
  {
   "cell_type": "code",
   "execution_count": 41,
   "metadata": {},
   "outputs": [
    {
     "name": "stdout",
     "output_type": "stream",
     "text": [
      "True\n"
     ]
    }
   ],
   "source": [
    "print(grabbed)\n",
    "stream.release()\n"
   ]
  }
 ],
 "metadata": {
  "kernelspec": {
   "display_name": "Python 3",
   "language": "python",
   "name": "python3"
  },
  "language_info": {
   "codemirror_mode": {
    "name": "ipython",
    "version": 3
   },
   "file_extension": ".py",
   "mimetype": "text/x-python",
   "name": "python",
   "nbconvert_exporter": "python",
   "pygments_lexer": "ipython3",
   "version": "3.12.0"
  }
 },
 "nbformat": 4,
 "nbformat_minor": 2
}
